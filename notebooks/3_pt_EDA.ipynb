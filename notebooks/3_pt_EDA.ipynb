{
 "cells": [
  {
   "cell_type": "raw",
   "id": "399001bf",
   "metadata": {},
   "source": [
    "How has the 3 pointer revolutionized the game? \n",
    "How has the shift in positional basketball impacted the game? \n",
    "AKA the Steph Curry effect. \n",
    "Does volume or accuracy have influence winning games? \n",
    "Is it worth having Mike Miller/Kyle Korver on your team?"
   ]
  },
  {
   "cell_type": "raw",
   "id": "e58b7aa2",
   "metadata": {},
   "source": [
    "A few of my thoughts on these questions:\n",
    "\n",
    "1) How do we define \"revolutionized the game\" analytically?\n",
    "\t- Perhaps we can use fan participation?\n",
    "\t- Maybe we can understand how the NBA market has changed over time usin viewership numbers? \n",
    "\n",
    "2) How do we define \"impacted the game\"? \n",
    "\t- Maybe we can look at 3pt'ers taken to fan base numbers/viewership relationship? \n",
    "\n",
    "3) What is the Steph Curry effect analytically?\n",
    "\t- This one is tougher for me to understand, especially, since i don't think it will help to answer the overall questions we are trying to answer. \n",
    "\t- Maybe we can do the same kinda replacement player stuff talked about below\n",
    "\n",
    "4) How do we define what \"worth it\" means? \n",
    "\t- Maybe we can use a replacement technique where we replace a player on a team with Mike Miller/Kyle Korver 3 pt numbers/fanbase contribution and see how our model estimates the fanbase numbers?\n",
    "\t- The concept of fanbase contribution is very interesting to me -- who are the money makers for the NBA? Why? What makes them a player that sells jerseys?\n",
    "5) What kinda data would we want to get to answer these questions? \n",
    "\t- we would need fan base numbers over time\n",
    "\t- we would need 3 pt statistics per team over time\n",
    "\t- we could get some tv data (viewership) over time/per game/per team\n",
    "\t- we could look at some jersey sales data over time"
   ]
  },
  {
   "cell_type": "code",
   "execution_count": null,
   "id": "fdad9060",
   "metadata": {},
   "outputs": [],
   "source": []
  },
  {
   "cell_type": "code",
   "execution_count": null,
   "id": "039a7ac7",
   "metadata": {},
   "outputs": [],
   "source": []
  }
 ],
 "metadata": {
  "kernelspec": {
   "display_name": "Python 3 (ipykernel)",
   "language": "python",
   "name": "python3"
  },
  "language_info": {
   "codemirror_mode": {
    "name": "ipython",
    "version": 3
   },
   "file_extension": ".py",
   "mimetype": "text/x-python",
   "name": "python",
   "nbconvert_exporter": "python",
   "pygments_lexer": "ipython3",
   "version": "3.9.7"
  }
 },
 "nbformat": 4,
 "nbformat_minor": 5
}
