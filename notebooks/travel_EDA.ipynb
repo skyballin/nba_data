{
 "cells": [
  {
   "cell_type": "raw",
   "id": "352de414",
   "metadata": {},
   "source": [
    "Problem: What is the effect of travel time and winning? Should the \"bubble\" championship come with an asterisk?"
   ]
  },
  {
   "cell_type": "code",
   "execution_count": null,
   "id": "e410a72b",
   "metadata": {},
   "outputs": [],
   "source": []
  }
 ],
 "metadata": {
  "kernelspec": {
   "display_name": "Python 3 (ipykernel)",
   "language": "python",
   "name": "python3"
  },
  "language_info": {
   "codemirror_mode": {
    "name": "ipython",
    "version": 3
   },
   "file_extension": ".py",
   "mimetype": "text/x-python",
   "name": "python",
   "nbconvert_exporter": "python",
   "pygments_lexer": "ipython3",
   "version": "3.9.7"
  }
 },
 "nbformat": 4,
 "nbformat_minor": 5
}
