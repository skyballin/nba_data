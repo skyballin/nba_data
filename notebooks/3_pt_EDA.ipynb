{
 "cells": [
  {
   "cell_type": "raw",
   "id": "f6162d94",
   "metadata": {},
   "source": [
    "How has the 3 pointer revolutionized the game? \n",
    "How has the shift in positional basketball impacted the game? \n",
    "AKA the Steph Curry effect. \n",
    "Does volume or accuracy have influence winning games? \n",
    "Is it worth having Mike Miller/Kyle Korver on your team?"
   ]
  }
 ],
 "metadata": {
  "kernelspec": {
   "display_name": "Python 3 (ipykernel)",
   "language": "python",
   "name": "python3"
  },
  "language_info": {
   "codemirror_mode": {
    "name": "ipython",
    "version": 3
   },
   "file_extension": ".py",
   "mimetype": "text/x-python",
   "name": "python",
   "nbconvert_exporter": "python",
   "pygments_lexer": "ipython3",
   "version": "3.9.7"
  }
 },
 "nbformat": 4,
 "nbformat_minor": 5
}
